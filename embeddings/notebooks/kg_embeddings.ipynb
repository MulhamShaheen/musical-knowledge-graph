{
 "cells": [
  {
   "cell_type": "code",
   "execution_count": 22,
   "metadata": {
    "collapsed": true,
    "ExecuteTime": {
     "end_time": "2025-01-15T13:47:28.741975600Z",
     "start_time": "2025-01-15T13:47:28.736456500Z"
    }
   },
   "outputs": [],
   "source": [
    "import numpy as np\n",
    "import pandas as pd\n",
    "import ampligraph\n",
    "import tensorflow as tf"
   ]
  },
  {
   "cell_type": "markdown",
   "source": [
    "## Dataset\n",
    "We will use a set of 1000 songs parsed using yandex music API. A csv file was created with the following columns:\n",
    "- song\n",
    "- artist\n",
    "- album\n",
    "- album_id\n",
    "- time\n",
    "- playlist\n",
    "- lyrics\n",
    "- genre"
   ],
   "metadata": {
    "collapsed": false
   }
  },
  {
   "cell_type": "code",
   "execution_count": 23,
   "outputs": [],
   "source": [
    "df = pd.read_csv('../../data/yandex.csv')"
   ],
   "metadata": {
    "collapsed": false,
    "ExecuteTime": {
     "end_time": "2025-01-15T13:47:29.072236300Z",
     "start_time": "2025-01-15T13:47:29.046526800Z"
    }
   }
  },
  {
   "cell_type": "code",
   "execution_count": 24,
   "outputs": [
    {
     "data": {
      "text/plain": "         id             song          artist                   album  \\\n0    106259     Группа крови            КИНО            Группа крови   \n1  25949305  Дорога в облака           Браво         Дорога в облака   \n2  34905249          Поворот  Машина времени  Лучшие песни 1979-1985   \n3  34084451       Моё сердце           Сплин               25-й кадр   \n4    732394           почему         Земфира                 земфира   \n\n   album_id                        time                    playlist  \\\n0     10100  2025-01-12 19:19:14.546605  Лучшие песни русского рока   \n1  32851240  2025-01-12 19:19:14.962741  Лучшие песни русского рока   \n2   4741960  2025-01-12 19:19:15.703078  Лучшие песни русского рока   \n3   4181557  2025-01-12 19:19:16.410526  Лучшие песни русского рока   \n4     81430  2025-01-12 19:19:17.166311  Лучшие песни русского рока   \n\n                                              lyrics genre  path  \n0  Тёплое место, но улицы ждут\\nОтпечатков наших ...  rock   NaN  \n1                                                NaN  rock   NaN  \n2  Мы себе давали слово - не сходить с пути прямо...  rock   NaN  \n3  Мы не знали друг друга до этого лета\\nМы болта...  rock   NaN  \n4  Ты стучала в дверь открытую\\nЯ молчала как уби...  rock   NaN  ",
      "text/html": "<div>\n<style scoped>\n    .dataframe tbody tr th:only-of-type {\n        vertical-align: middle;\n    }\n\n    .dataframe tbody tr th {\n        vertical-align: top;\n    }\n\n    .dataframe thead th {\n        text-align: right;\n    }\n</style>\n<table border=\"1\" class=\"dataframe\">\n  <thead>\n    <tr style=\"text-align: right;\">\n      <th></th>\n      <th>id</th>\n      <th>song</th>\n      <th>artist</th>\n      <th>album</th>\n      <th>album_id</th>\n      <th>time</th>\n      <th>playlist</th>\n      <th>lyrics</th>\n      <th>genre</th>\n      <th>path</th>\n    </tr>\n  </thead>\n  <tbody>\n    <tr>\n      <th>0</th>\n      <td>106259</td>\n      <td>Группа крови</td>\n      <td>КИНО</td>\n      <td>Группа крови</td>\n      <td>10100</td>\n      <td>2025-01-12 19:19:14.546605</td>\n      <td>Лучшие песни русского рока</td>\n      <td>Тёплое место, но улицы ждут\\nОтпечатков наших ...</td>\n      <td>rock</td>\n      <td>NaN</td>\n    </tr>\n    <tr>\n      <th>1</th>\n      <td>25949305</td>\n      <td>Дорога в облака</td>\n      <td>Браво</td>\n      <td>Дорога в облака</td>\n      <td>32851240</td>\n      <td>2025-01-12 19:19:14.962741</td>\n      <td>Лучшие песни русского рока</td>\n      <td>NaN</td>\n      <td>rock</td>\n      <td>NaN</td>\n    </tr>\n    <tr>\n      <th>2</th>\n      <td>34905249</td>\n      <td>Поворот</td>\n      <td>Машина времени</td>\n      <td>Лучшие песни 1979-1985</td>\n      <td>4741960</td>\n      <td>2025-01-12 19:19:15.703078</td>\n      <td>Лучшие песни русского рока</td>\n      <td>Мы себе давали слово - не сходить с пути прямо...</td>\n      <td>rock</td>\n      <td>NaN</td>\n    </tr>\n    <tr>\n      <th>3</th>\n      <td>34084451</td>\n      <td>Моё сердце</td>\n      <td>Сплин</td>\n      <td>25-й кадр</td>\n      <td>4181557</td>\n      <td>2025-01-12 19:19:16.410526</td>\n      <td>Лучшие песни русского рока</td>\n      <td>Мы не знали друг друга до этого лета\\nМы болта...</td>\n      <td>rock</td>\n      <td>NaN</td>\n    </tr>\n    <tr>\n      <th>4</th>\n      <td>732394</td>\n      <td>почему</td>\n      <td>Земфира</td>\n      <td>земфира</td>\n      <td>81430</td>\n      <td>2025-01-12 19:19:17.166311</td>\n      <td>Лучшие песни русского рока</td>\n      <td>Ты стучала в дверь открытую\\nЯ молчала как уби...</td>\n      <td>rock</td>\n      <td>NaN</td>\n    </tr>\n  </tbody>\n</table>\n</div>"
     },
     "execution_count": 24,
     "metadata": {},
     "output_type": "execute_result"
    }
   ],
   "source": [
    "df.head()"
   ],
   "metadata": {
    "collapsed": false,
    "ExecuteTime": {
     "end_time": "2025-01-15T13:47:29.233333200Z",
     "start_time": "2025-01-15T13:47:29.207489600Z"
    }
   }
  },
  {
   "cell_type": "code",
   "execution_count": 25,
   "outputs": [],
   "source": [
    "df['train'] = np.random.choice([True, False], df.shape[0], p=[0.8, 0.2])"
   ],
   "metadata": {
    "collapsed": false,
    "ExecuteTime": {
     "end_time": "2025-01-15T13:47:29.387156700Z",
     "start_time": "2025-01-15T13:47:29.370599100Z"
    }
   }
  },
  {
   "cell_type": "markdown",
   "source": [
    "### Create artist dataset\n",
    "We create a set from the artist and genre columns."
   ],
   "metadata": {
    "collapsed": false
   }
  },
  {
   "cell_type": "code",
   "execution_count": 26,
   "outputs": [
    {
     "data": {
      "text/plain": "           artist genre\n0            кино  rock\n1           браво  rock\n2  машина_времени  rock\n3           сплин  rock\n4         земфира  rock",
      "text/html": "<div>\n<style scoped>\n    .dataframe tbody tr th:only-of-type {\n        vertical-align: middle;\n    }\n\n    .dataframe tbody tr th {\n        vertical-align: top;\n    }\n\n    .dataframe thead th {\n        text-align: right;\n    }\n</style>\n<table border=\"1\" class=\"dataframe\">\n  <thead>\n    <tr style=\"text-align: right;\">\n      <th></th>\n      <th>artist</th>\n      <th>genre</th>\n    </tr>\n  </thead>\n  <tbody>\n    <tr>\n      <th>0</th>\n      <td>кино</td>\n      <td>rock</td>\n    </tr>\n    <tr>\n      <th>1</th>\n      <td>браво</td>\n      <td>rock</td>\n    </tr>\n    <tr>\n      <th>2</th>\n      <td>машина_времени</td>\n      <td>rock</td>\n    </tr>\n    <tr>\n      <th>3</th>\n      <td>сплин</td>\n      <td>rock</td>\n    </tr>\n    <tr>\n      <th>4</th>\n      <td>земфира</td>\n      <td>rock</td>\n    </tr>\n  </tbody>\n</table>\n</div>"
     },
     "execution_count": 26,
     "metadata": {},
     "output_type": "execute_result"
    }
   ],
   "source": [
    "from knowledge_graph.utils import get_artist_genre_set\n",
    "\n",
    "artists_df = get_artist_genre_set(df)\n",
    "artists_df.to_csv('../../data/artists.csv', index=False)\n",
    "artists_df.head()"
   ],
   "metadata": {
    "collapsed": false,
    "ExecuteTime": {
     "end_time": "2025-01-15T13:47:29.733082700Z",
     "start_time": "2025-01-15T13:47:29.670620100Z"
    }
   }
  },
  {
   "cell_type": "markdown",
   "source": [
    "## Knowledge graph creation\n",
    "We are going to create a knowledge graph from scratch based on the match information. The idea is that each song will be connected to the artist, album, genre and playlist. We will also connect the artist to the genre and the album to the genre.\n",
    "\n",
    "We will use the class Ontology and GraphGenerator from the knowledge_graph module."
   ],
   "metadata": {
    "collapsed": false
   }
  },
  {
   "cell_type": "code",
   "execution_count": 27,
   "outputs": [],
   "source": [
    "from knowledge_graph.ontologies import Ontology\n",
    "from knowledge_graph.graphs import GraphGenerator\n",
    "\n",
    "\n",
    "ontology = Ontology(\n",
    "    properties={\n",
    "        \"by\": {\"type\": \"DatatypeProperty\", \"domain\": \"Artist\"},\n",
    "        \"inAlbum\": {\"type\": \"DatatypeProperty\", \"domain\": \"Album\"},\n",
    "        \"inGenre\": {\"type\": \"DatatypeProperty\", \"domain\": \"Genre\"},\n",
    "        \"playsGenre\": {\"type\": \"DatatypeProperty\", \"domain\": \"Genre\"},\n",
    "        \"inPlaylist\": {\"type\": \"DatatypeProperty\", \"domain\": \"Playlist\"},\n",
    "    },\n",
    "    classes=[\"Song\", \"Artist\", \"Album\", \"Genre\", \"Playlist\"]\n",
    ")\n",
    "\n",
    "generator = GraphGenerator(ontology, namespace=\"music:\")\n",
    "generator.load_dataset(\"../../data/yandex.csv\", \"song\", [\"by\", \"inAlbum\", \"inGenre\", \"inPlaylist\"])\n",
    "generator.load_dataset(\"../../data/artists.csv\", \"artist\", [\"playsGenre\"])"
   ],
   "metadata": {
    "collapsed": false,
    "ExecuteTime": {
     "end_time": "2025-01-15T13:47:31.122689900Z",
     "start_time": "2025-01-15T13:47:30.756048900Z"
    }
   }
  },
  {
   "cell_type": "markdown",
   "source": [
    "We can now generate the graph and save it to a file. And save triples for the training of the embeddings."
   ],
   "metadata": {
    "collapsed": false
   }
  },
  {
   "cell_type": "code",
   "execution_count": 28,
   "outputs": [],
   "source": [
    "generator.serialize(\"music_graph.owl\", format=\"xml\")\n",
    "generator.save_triplets(\"music_triplets.csv\")"
   ],
   "metadata": {
    "collapsed": false,
    "ExecuteTime": {
     "end_time": "2025-01-15T13:47:31.612584700Z",
     "start_time": "2025-01-15T13:47:31.491360100Z"
    }
   }
  },
  {
   "cell_type": "code",
   "execution_count": 29,
   "outputs": [
    {
     "data": {
      "text/plain": "                   subject   predicate                object\n0             breezeblocks          by                  altj\n1              смех_в_суде     inGenre                  jazz\n2  мои_берега_prod_by_mal0  inPlaylist  новый_локальный_фолк\n3                heartbeat  inPlaylist           блюз_лучшее\n4                дядя_ваня  playsGenre                 blues",
      "text/html": "<div>\n<style scoped>\n    .dataframe tbody tr th:only-of-type {\n        vertical-align: middle;\n    }\n\n    .dataframe tbody tr th {\n        vertical-align: top;\n    }\n\n    .dataframe thead th {\n        text-align: right;\n    }\n</style>\n<table border=\"1\" class=\"dataframe\">\n  <thead>\n    <tr style=\"text-align: right;\">\n      <th></th>\n      <th>subject</th>\n      <th>predicate</th>\n      <th>object</th>\n    </tr>\n  </thead>\n  <tbody>\n    <tr>\n      <th>0</th>\n      <td>breezeblocks</td>\n      <td>by</td>\n      <td>altj</td>\n    </tr>\n    <tr>\n      <th>1</th>\n      <td>смех_в_суде</td>\n      <td>inGenre</td>\n      <td>jazz</td>\n    </tr>\n    <tr>\n      <th>2</th>\n      <td>мои_берега_prod_by_mal0</td>\n      <td>inPlaylist</td>\n      <td>новый_локальный_фолк</td>\n    </tr>\n    <tr>\n      <th>3</th>\n      <td>heartbeat</td>\n      <td>inPlaylist</td>\n      <td>блюз_лучшее</td>\n    </tr>\n    <tr>\n      <th>4</th>\n      <td>дядя_ваня</td>\n      <td>playsGenre</td>\n      <td>blues</td>\n    </tr>\n  </tbody>\n</table>\n</div>"
     },
     "execution_count": 29,
     "metadata": {},
     "output_type": "execute_result"
    }
   ],
   "source": [
    "triples_df = pd.read_csv(\"music_triplets.csv\")\n",
    "triples_df.head()"
   ],
   "metadata": {
    "collapsed": false,
    "ExecuteTime": {
     "end_time": "2025-01-15T13:47:31.904899Z",
     "start_time": "2025-01-15T13:47:31.887740400Z"
    }
   }
  },
  {
   "cell_type": "code",
   "execution_count": 30,
   "outputs": [
    {
     "data": {
      "text/plain": "array(['by', 'inGenre', 'inPlaylist', 'playsGenre', 'inAlbum'],\n      dtype=object)"
     },
     "execution_count": 30,
     "metadata": {},
     "output_type": "execute_result"
    }
   ],
   "source": [
    "triples_df[\"predicate\"].unique()"
   ],
   "metadata": {
    "collapsed": false,
    "ExecuteTime": {
     "end_time": "2025-01-15T13:47:32.648886200Z",
     "start_time": "2025-01-15T13:47:32.636551100Z"
    }
   }
  },
  {
   "cell_type": "code",
   "execution_count": 31,
   "outputs": [
    {
     "data": {
      "text/plain": "             subject   predicate                      object\n186   спокойная_ночь  inPlaylist  лучшие_песни_русского_рока\n1252  спокойная_ночь          by                        кино\n3886  спокойная_ночь     inAlbum                     легенда\n4213  спокойная_ночь     inGenre                        rock",
      "text/html": "<div>\n<style scoped>\n    .dataframe tbody tr th:only-of-type {\n        vertical-align: middle;\n    }\n\n    .dataframe tbody tr th {\n        vertical-align: top;\n    }\n\n    .dataframe thead th {\n        text-align: right;\n    }\n</style>\n<table border=\"1\" class=\"dataframe\">\n  <thead>\n    <tr style=\"text-align: right;\">\n      <th></th>\n      <th>subject</th>\n      <th>predicate</th>\n      <th>object</th>\n    </tr>\n  </thead>\n  <tbody>\n    <tr>\n      <th>186</th>\n      <td>спокойная_ночь</td>\n      <td>inPlaylist</td>\n      <td>лучшие_песни_русского_рока</td>\n    </tr>\n    <tr>\n      <th>1252</th>\n      <td>спокойная_ночь</td>\n      <td>by</td>\n      <td>кино</td>\n    </tr>\n    <tr>\n      <th>3886</th>\n      <td>спокойная_ночь</td>\n      <td>inAlbum</td>\n      <td>легенда</td>\n    </tr>\n    <tr>\n      <th>4213</th>\n      <td>спокойная_ночь</td>\n      <td>inGenre</td>\n      <td>rock</td>\n    </tr>\n  </tbody>\n</table>\n</div>"
     },
     "execution_count": 31,
     "metadata": {},
     "output_type": "execute_result"
    }
   ],
   "source": [
    "triples_df[(triples_df.subject==\"спокойная_ночь\")]"
   ],
   "metadata": {
    "collapsed": false,
    "ExecuteTime": {
     "end_time": "2025-01-15T13:47:32.819285300Z",
     "start_time": "2025-01-15T13:47:32.801257800Z"
    }
   }
  },
  {
   "cell_type": "markdown",
   "source": [
    "## Training knowledge graph embeddings"
   ],
   "metadata": {
    "collapsed": false
   }
  },
  {
   "cell_type": "code",
   "execution_count": 32,
   "outputs": [],
   "source": [
    "generator.save_triplets(\"music_triplets_ids.csv\", as_ids=True)\n",
    "triples_df = pd.read_csv(\"music_triplets_ids.csv\")"
   ],
   "metadata": {
    "collapsed": false,
    "ExecuteTime": {
     "end_time": "2025-01-15T13:47:34.900495700Z",
     "start_time": "2025-01-15T13:47:34.862837100Z"
    }
   }
  },
  {
   "cell_type": "code",
   "execution_count": 33,
   "outputs": [
    {
     "data": {
      "text/plain": "array([['Song_891', 'by', 'Artist_517'],\n       ['Song_392', 'inGenre', 'Genre_4'],\n       ['Song_1005', 'inPlaylist', 'Playlist_20'],\n       ...,\n       ['Song_128', 'inGenre', 'Song_133'],\n       ['Song_1049', 'by', 'Artist_760'],\n       ['Song_147', 'inAlbum', 'Album_129']], dtype=object)"
     },
     "execution_count": 33,
     "metadata": {},
     "output_type": "execute_result"
    }
   ],
   "source": [
    "np.array(triples_df)"
   ],
   "metadata": {
    "collapsed": false,
    "ExecuteTime": {
     "end_time": "2025-01-15T13:47:35.050470300Z",
     "start_time": "2025-01-15T13:47:35.039920700Z"
    }
   }
  },
  {
   "cell_type": "code",
   "execution_count": 34,
   "outputs": [],
   "source": [
    "from ampligraph.evaluation import train_test_split_no_unseen\n",
    "\n",
    "X_train, X_valid = train_test_split_no_unseen(np.array(triples_df), test_size=500)"
   ],
   "metadata": {
    "collapsed": false,
    "ExecuteTime": {
     "end_time": "2025-01-15T13:47:35.839456500Z",
     "start_time": "2025-01-15T13:47:35.808216800Z"
    }
   }
  },
  {
   "cell_type": "code",
   "execution_count": 35,
   "outputs": [
    {
     "name": "stdout",
     "output_type": "stream",
     "text": [
      "Train set size:  (4649, 3)\n",
      "Test set size:  (500, 3)\n"
     ]
    }
   ],
   "source": [
    "print('Train set size: ', X_train.shape)\n",
    "print('Test set size: ', X_valid.shape)"
   ],
   "metadata": {
    "collapsed": false,
    "ExecuteTime": {
     "end_time": "2025-01-15T13:47:36.108625Z",
     "start_time": "2025-01-15T13:47:36.093246400Z"
    }
   }
  },
  {
   "cell_type": "code",
   "execution_count": null,
   "outputs": [],
   "source": [
    "from ampligraph.latent_features import ScoringBasedEmbeddingModel\n",
    "from ampligraph.latent_features.loss_functions import get as get_loss\n",
    "from ampligraph.latent_features.regularizers import get as get_regularizer\n",
    "\n",
    "model = ScoringBasedEmbeddingModel(k=100,\n",
    "                                   eta=20,\n",
    "                                   scoring_type='ComplEx',\n",
    "                                   seed=0)\n",
    "\n",
    "# Optimizer, loss and regularizer definition\n",
    "optimizer = tf.keras.optimizers.Adam(learning_rate=1e-4)\n",
    "loss = get_loss('multiclass_nll')\n",
    "regularizer = get_regularizer('LP', {'p': 3, 'lambda': 1e-5})\n",
    "\n",
    "# Compilation of the model\n",
    "model.compile(optimizer=optimizer, loss=loss, entity_relation_regularizer=regularizer)"
   ],
   "metadata": {
    "collapsed": false
   }
  },
  {
   "cell_type": "markdown",
   "source": [
    "### Training model"
   ],
   "metadata": {
    "collapsed": false
   }
  },
  {
   "cell_type": "code",
   "execution_count": null,
   "outputs": [],
   "source": [
    "model.fit(X_train,\n",
    "          batch_size=int(X_train.shape[0] / 50),\n",
    "          epochs=300,\n",
    "          verbose=True\n",
    "          )"
   ],
   "metadata": {
    "collapsed": false
   }
  },
  {
   "cell_type": "markdown",
   "source": [
    "### Evaluation\n",
    "The training process was done using google colaboratory. Got the following results:"
   ],
   "metadata": {
    "collapsed": false
   }
  },
  {
   "cell_type": "code",
   "execution_count": null,
   "outputs": [],
   "source": [
    "ranks = model.evaluate(X_valid,\n",
    "                      use_filter={'train': X_train,\n",
    "                                  'test': X_valid},\n",
    "                      corrupt_side='s,o',\n",
    "                      verbose=True)"
   ],
   "metadata": {
    "collapsed": false
   }
  },
  {
   "cell_type": "code",
   "execution_count": null,
   "outputs": [],
   "source": [
    "from ampligraph.evaluation import mr_score, mrr_score, hits_at_n_score\n",
    "\n",
    "mr = mr_score(ranks)\n",
    "mrr = mrr_score(ranks)\n",
    "\n",
    "print(\"MRR: %.2f\" % (mrr))\n",
    "print(\"MR: %.2f\" % (mr))\n",
    "\n",
    "hits_10 = hits_at_n_score(ranks, n=10)\n",
    "print(\"Hits@10: %.2f\" % (hits_10))\n",
    "hits_3 = hits_at_n_score(ranks, n=3)\n",
    "print(\"Hits@3: %.2f\" % (hits_3))\n",
    "hits_1 = hits_at_n_score(ranks, n=1)\n",
    "print(\"Hits@1: %.2f\" % (hits_1))"
   ],
   "metadata": {
    "collapsed": false
   }
  },
  {
   "cell_type": "markdown",
   "source": [
    "```\n",
    "MRR: 0.55\n",
    "MR: 37.44\n",
    "Hits@10: 0.63\n",
    "Hits@3: 0.56\n",
    "Hits@1: 0.50\n",
    "```"
   ],
   "metadata": {
    "collapsed": false
   }
  },
  {
   "cell_type": "markdown",
   "source": [
    "### Cauterization by genre"
   ],
   "metadata": {
    "collapsed": false
   }
  },
  {
   "cell_type": "code",
   "execution_count": null,
   "outputs": [],
   "source": [
    "from sklearn.decomposition import PCA\n",
    "import matplotlib.pyplot as plt\n",
    "import seaborn as sns\n",
    "from adjustText import adjust_text\n",
    "from incf.countryutils import transformations\n",
    "%matplotlib inline"
   ],
   "metadata": {
    "collapsed": false
   }
  },
  {
   "cell_type": "code",
   "execution_count": null,
   "outputs": [],
   "source": [
    "triples_ids_df = pd.read_csv(\"music_triplets_ids.csv\")\n",
    "triples_df = pd.read_csv(\"music_triplets.csv\")"
   ],
   "metadata": {
    "collapsed": false
   }
  },
  {
   "cell_type": "code",
   "execution_count": null,
   "outputs": [],
   "source": [
    "id_to_name_map = {**dict(zip(triples_ids_df[\"subject\"], triples_df[\"subject\"])), **dict(zip(triples_ids_df[\"object\"], triples_df[\"object\"]))}"
   ],
   "metadata": {
    "collapsed": false
   }
  },
  {
   "cell_type": "code",
   "execution_count": null,
   "outputs": [],
   "source": [
    "songs_df = pd.DataFrame(X_train, columns=[\"subject\", \"predicate\", \"object\"])\n",
    "songs_df = songs_df[songs_df[\"subject\"].str.contains(\"Song\", na=False)]\n",
    "songs_df[\"song\"] = songs_df[\"subject\"].map(id_to_name_map)"
   ],
   "metadata": {
    "collapsed": false
   }
  },
  {
   "cell_type": "code",
   "execution_count": null,
   "outputs": [],
   "source": [
    "songs = songs_df[\"subject\"].unique()\n",
    "songs_embeddings = dict(zip(songs, model.get_embeddings(songs)))\n",
    "embeddings_2d = PCA(n_components=2).fit_transform(np.array([i for i in songs_embeddings.values()]))"
   ],
   "metadata": {
    "collapsed": false
   }
  },
  {
   "cell_type": "code",
   "execution_count": null,
   "outputs": [],
   "source": [
    "from ampligraph.discovery import find_clusters\n",
    "from sklearn.cluster import KMeans\n",
    "\n",
    "clustering_algorithm = KMeans(n_clusters=6, n_init=50, max_iter=500, random_state=0)\n",
    "clusters = find_clusters(songs, model, clustering_algorithm, mode='e')"
   ],
   "metadata": {
    "collapsed": false
   }
  },
  {
   "cell_type": "code",
   "execution_count": null,
   "outputs": [],
   "source": [
    "plot_df = pd.DataFrame({\"songs\": songs,\n",
    "                        \"embedding1\": embeddings_2d[:, 0],\n",
    "                        \"embedding2\": embeddings_2d[:, 1],\n",
    "                        \"cluster\": \"cluster\" + pd.Series(clusters).astype(str)})"
   ],
   "metadata": {
    "collapsed": false
   }
  },
  {
   "cell_type": "code",
   "execution_count": null,
   "outputs": [],
   "source": [
    "rock_songs = [\"московский_бит\",\"девушка_по_городу\",\"ты_не_один\",\"ариведерчи\",\n",
    "\"ленинградский_рокнролл\",\"поэзия\",\"хару_мамбуру\",\"феллини\",\"эльдорадо\",\"искала\",\"иду_курю\"]\n",
    "\n",
    "jazz_songs = [\"смех_в_суде\", \"the_little_swallow\", \"чувство_спокойный_работа_из_дома\", \"атмосфера_гостиная_в_отеле\"]\n",
    "\n",
    "def plot_clusters(hue):\n",
    "    np.random.seed(0)\n",
    "    plt.figure(figsize=(12, 12))\n",
    "    plt.title(\"{} embeddings\".format(hue).capitalize())\n",
    "    ax = sns.scatterplot(data=plot_df, x=\"embedding1\", y=\"embedding2\", hue=hue)\n",
    "    texts = []\n",
    "    for i, point in plot_df.iterrows() :\n",
    "        title = id_to_name_map[point[\"songs\"]]\n",
    "        if title in rock_songs or title in jazz_songs:\n",
    "            texts.append(plt.text(point['embedding1']+0.02, point['embedding2']+0.01, str(title)))\n",
    "    adjust_text(texts)"
   ],
   "metadata": {
    "collapsed": false
   }
  },
  {
   "cell_type": "code",
   "execution_count": null,
   "outputs": [],
   "source": [
    "plot_clusters(\"cluster\")"
   ],
   "metadata": {
    "collapsed": false
   }
  },
  {
   "cell_type": "markdown",
   "source": [
    "![Rock songs](../../media/rock_jazz_songs.png)\n"
   ],
   "metadata": {
    "collapsed": false
   }
  },
  {
   "cell_type": "code",
   "execution_count": null,
   "outputs": [],
   "source": [],
   "metadata": {
    "collapsed": false
   }
  }
 ],
 "metadata": {
  "kernelspec": {
   "display_name": "Python 3",
   "language": "python",
   "name": "python3"
  },
  "language_info": {
   "codemirror_mode": {
    "name": "ipython",
    "version": 2
   },
   "file_extension": ".py",
   "mimetype": "text/x-python",
   "name": "python",
   "nbconvert_exporter": "python",
   "pygments_lexer": "ipython2",
   "version": "2.7.6"
  }
 },
 "nbformat": 4,
 "nbformat_minor": 0
}
